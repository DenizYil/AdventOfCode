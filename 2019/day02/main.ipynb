{
 "cells": [
  {
   "cell_type": "code",
   "execution_count": 40,
   "metadata": {},
   "outputs": [],
   "source": [
    "with open('input.txt') as file:\n",
    "    _numbs = [int(line) for line in eval(\"[\" + file.read() + \"]\")]\n"
   ]
  },
  {
   "cell_type": "code",
   "execution_count": 41,
   "metadata": {},
   "outputs": [
    {
     "data": {
      "text/plain": [
       "3101844"
      ]
     },
     "execution_count": 41,
     "metadata": {},
     "output_type": "execute_result"
    }
   ],
   "source": [
    "numbs = _numbs.copy()\n",
    "\n",
    "i = 0\n",
    "\n",
    "numbs[1] = 12\n",
    "numbs[2] = 2\n",
    "\n",
    "while i < len(numbs):\n",
    "    x = i\n",
    "\n",
    "    op, pos1, pos2, position = numbs[i], numbs[i+1], numbs[i+2], numbs[i+3]\n",
    "\n",
    "    if op == 99:\n",
    "        break\n",
    "\n",
    "    if op == 1:\n",
    "        numbs[position] = numbs[pos1] + numbs[pos2]\n",
    "    elif op == 2:\n",
    "        numbs[position] = numbs[pos1] * numbs[pos2]\n",
    "    else:\n",
    "        raise ValueError(\"GGs\")\n",
    "\n",
    "    i += 4\n",
    "\n",
    "numbs[0]\n"
   ]
  }
 ],
 "metadata": {
  "kernelspec": {
   "display_name": "Python 3",
   "language": "python",
   "name": "python3"
  },
  "language_info": {
   "codemirror_mode": {
    "name": "ipython",
    "version": 3
   },
   "file_extension": ".py",
   "mimetype": "text/x-python",
   "name": "python",
   "nbconvert_exporter": "python",
   "pygments_lexer": "ipython3",
   "version": "3.10.11"
  }
 },
 "nbformat": 4,
 "nbformat_minor": 2
}
